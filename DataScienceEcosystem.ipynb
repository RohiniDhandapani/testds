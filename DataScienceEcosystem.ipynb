{
 "cells": [
  {
   "cell_type": "markdown",
   "id": "78e6b2cf",
   "metadata": {},
   "source": [
    "# Data Science Tools and Ecosystem"
   ]
  },
  {
   "cell_type": "markdown",
   "id": "05202ab5",
   "metadata": {},
   "source": [
    "In this notebook,Data Science Tools and Ecosystem are summarized."
   ]
  },
  {
   "cell_type": "markdown",
   "id": "50dcbe87",
   "metadata": {},
   "source": [
    "**Objectives:**\n",
    "  - Python\n",
    "  - R \n",
    "  - SQL \n",
    "  - Scala \n",
    "  - Java\n"
   ]
  },
  {
   "cell_type": "markdown",
   "id": "571da8a6",
   "metadata": {},
   "source": [
    "Some of the popular languages that Data Scientists use are: \n",
    "  1. Python\n",
    "  2. R \n",
    "  3. SQL \n",
    "  4. Scala \n",
    "  5. Java"
   ]
  },
  {
   "cell_type": "markdown",
   "id": "41a10f44",
   "metadata": {},
   "source": [
    "some of the commonly used libraries used by Data Scientists include:\n",
    "  1. Scientific Computing Libraries in Python \n",
    "  2. Visualization Libraries in Python \n",
    "  3. High-level Machine Learning and Deep Learning Libraries\n",
    "  4. Deep Learning Libraries in Python"
   ]
  },
  {
   "cell_type": "markdown",
   "id": "019759cc",
   "metadata": {},
   "source": [
    "|Data Science Tools|\n",
    "|:-----------------|\n",
    "|Jupyter Notebooks |\n",
    "|RStudio           |\n",
    "|Apache Zeppelin   |\n",
    "\n"
   ]
  },
  {
   "cell_type": "markdown",
   "id": "38a44a13",
   "metadata": {},
   "source": [
    "### Below are a few examples of evaluating arithmetic expressions in python."
   ]
  },
  {
   "cell_type": "code",
   "execution_count": 1,
   "id": "43970980",
   "metadata": {},
   "outputs": [
    {
     "name": "stdout",
     "output_type": "stream",
     "text": [
      "17\n"
     ]
    }
   ],
   "source": [
    "#This a simple arithmetic expression to multiply then add integers.\n",
    "\n",
    "print((3*4)+5)"
   ]
  },
  {
   "cell_type": "code",
   "execution_count": 2,
   "id": "0cba7d8b",
   "metadata": {},
   "outputs": [
    {
     "name": "stdout",
     "output_type": "stream",
     "text": [
      "3.3333333333333335\n"
     ]
    }
   ],
   "source": [
    "#This will convert 200 minutes to hours by divide by 60\n",
    "print(200/60)"
   ]
  },
  {
   "cell_type": "markdown",
   "id": "d4f818cb",
   "metadata": {},
   "source": [
    "## Author\n",
    "Rohini"
   ]
  }
 ],
 "metadata": {
  "kernelspec": {
   "display_name": "Python 3 (ipykernel)",
   "language": "python",
   "name": "python3"
  },
  "language_info": {
   "codemirror_mode": {
    "name": "ipython",
    "version": 3
   },
   "file_extension": ".py",
   "mimetype": "text/x-python",
   "name": "python",
   "nbconvert_exporter": "python",
   "pygments_lexer": "ipython3",
   "version": "3.9.12"
  }
 },
 "nbformat": 4,
 "nbformat_minor": 5
}
